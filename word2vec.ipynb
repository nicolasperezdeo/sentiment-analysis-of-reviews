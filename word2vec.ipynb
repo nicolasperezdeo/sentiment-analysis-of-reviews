{
 "cells": [
  {
   "cell_type": "code",
   "execution_count": 3,
   "metadata": {
    "collapsed": true
   },
   "outputs": [],
   "source": [
    "%run imdb_preprocessing.ipynb"
   ]
  },
  {
   "cell_type": "code",
   "execution_count": 29,
   "metadata": {
    "collapsed": true
   },
   "outputs": [
    {
     "name": "stderr",
     "output_type": "stream",
     "text": [
      "2018-12-20 13:22:55,433 : INFO : collecting all words and their counts\n"
     ]
    },
    {
     "name": "stderr",
     "output_type": "stream",
     "text": [
      "2018-12-20 13:22:55,434 : INFO : PROGRESS: at sentence #0, processed 0 words, keeping 0 word types\n"
     ]
    },
    {
     "name": "stderr",
     "output_type": "stream",
     "text": [
      "2018-12-20 13:22:55,503 : INFO : PROGRESS: at sentence #10000, processed 227240 words, keeping 18038 word types\n"
     ]
    },
    {
     "name": "stderr",
     "output_type": "stream",
     "text": [
      "2018-12-20 13:22:55,566 : INFO : PROGRESS: at sentence #20000, processed 454577 words, keeping 25324 word types\n"
     ]
    },
    {
     "name": "stderr",
     "output_type": "stream",
     "text": [
      "2018-12-20 13:22:55,616 : INFO : PROGRESS: at sentence #30000, processed 675274 words, keeping 30478 word types\n"
     ]
    },
    {
     "name": "stdout",
     "output_type": "stream",
     "text": [
      "Training model...\n"
     ]
    },
    {
     "name": "stderr",
     "output_type": "stream",
     "text": [
      "2018-12-20 13:22:55,700 : INFO : PROGRESS: at sentence #40000, processed 903014 words, keeping 34863 word types\n"
     ]
    },
    {
     "name": "stderr",
     "output_type": "stream",
     "text": [
      "2018-12-20 13:22:55,814 : INFO : PROGRESS: at sentence #50000, processed 1123503 words, keeping 38329 word types\n"
     ]
    },
    {
     "name": "stderr",
     "output_type": "stream",
     "text": [
      "2018-12-20 13:22:55,898 : INFO : PROGRESS: at sentence #60000, processed 1346264 words, keeping 41338 word types\n"
     ]
    },
    {
     "name": "stderr",
     "output_type": "stream",
     "text": [
      "2018-12-20 13:22:55,999 : INFO : PROGRESS: at sentence #70000, processed 1570738 words, keeping 43986 word types\n"
     ]
    },
    {
     "name": "stderr",
     "output_type": "stream",
     "text": [
      "2018-12-20 13:22:56,068 : INFO : PROGRESS: at sentence #80000, processed 1791248 words, keeping 46400 word types\n"
     ]
    },
    {
     "name": "stderr",
     "output_type": "stream",
     "text": [
      "2018-12-20 13:22:56,171 : INFO : PROGRESS: at sentence #90000, processed 2016722 words, keeping 48869 word types\n"
     ]
    },
    {
     "name": "stderr",
     "output_type": "stream",
     "text": [
      "2018-12-20 13:22:56,264 : INFO : PROGRESS: at sentence #100000, processed 2239896 words, keeping 50980 word types\n"
     ]
    },
    {
     "name": "stderr",
     "output_type": "stream",
     "text": [
      "2018-12-20 13:22:56,368 : INFO : PROGRESS: at sentence #110000, processed 2460901 words, keeping 52890 word types\n"
     ]
    },
    {
     "name": "stderr",
     "output_type": "stream",
     "text": [
      "2018-12-20 13:22:56,478 : INFO : PROGRESS: at sentence #120000, processed 2684304 words, keeping 54967 word types\n"
     ]
    },
    {
     "name": "stderr",
     "output_type": "stream",
     "text": [
      "2018-12-20 13:22:56,588 : INFO : PROGRESS: at sentence #130000, processed 2911246 words, keeping 56741 word types\n"
     ]
    },
    {
     "name": "stderr",
     "output_type": "stream",
     "text": [
      "2018-12-20 13:22:56,694 : INFO : PROGRESS: at sentence #140000, processed 3125257 words, keeping 58290 word types\n"
     ]
    },
    {
     "name": "stderr",
     "output_type": "stream",
     "text": [
      "2018-12-20 13:22:56,806 : INFO : PROGRESS: at sentence #150000, processed 3352187 words, keeping 60038 word types\n"
     ]
    },
    {
     "name": "stderr",
     "output_type": "stream",
     "text": [
      "2018-12-20 13:22:56,926 : INFO : PROGRESS: at sentence #160000, processed 3576077 words, keeping 61632 word types\n"
     ]
    },
    {
     "name": "stderr",
     "output_type": "stream",
     "text": [
      "2018-12-20 13:22:57,011 : INFO : PROGRESS: at sentence #170000, processed 3800671 words, keeping 63128 word types\n"
     ]
    },
    {
     "name": "stderr",
     "output_type": "stream",
     "text": [
      "2018-12-20 13:22:57,080 : INFO : PROGRESS: at sentence #180000, processed 4022558 words, keeping 64575 word types\n"
     ]
    },
    {
     "name": "stderr",
     "output_type": "stream",
     "text": [
      "2018-12-20 13:22:57,148 : INFO : PROGRESS: at sentence #190000, processed 4249063 words, keeping 65900 word types\n"
     ]
    },
    {
     "name": "stderr",
     "output_type": "stream",
     "text": [
      "2018-12-20 13:22:57,216 : INFO : PROGRESS: at sentence #200000, processed 4474464 words, keeping 67217 word types"
     ]
    },
    {
     "name": "stderr",
     "output_type": "stream",
     "text": [
      "\n"
     ]
    },
    {
     "name": "stderr",
     "output_type": "stream",
     "text": [
      "2018-12-20 13:22:57,297 : INFO : PROGRESS: at sentence #210000, processed 4697223 words, keeping 68546 word types"
     ]
    },
    {
     "name": "stderr",
     "output_type": "stream",
     "text": [
      "\n"
     ]
    },
    {
     "name": "stderr",
     "output_type": "stream",
     "text": [
      "2018-12-20 13:22:57,367 : INFO : PROGRESS: at sentence #220000, processed 4923567 words, keeping 69884 word types\n"
     ]
    },
    {
     "name": "stderr",
     "output_type": "stream",
     "text": [
      "2018-12-20 13:22:57,456 : INFO : PROGRESS: at sentence #230000, processed 5147438 words, keeping 71164 word types\n"
     ]
    },
    {
     "name": "stderr",
     "output_type": "stream",
     "text": [
      "2018-12-20 13:22:57,524 : INFO : PROGRESS: at sentence #240000, processed 5376271 words, keeping 72402 word types\n"
     ]
    },
    {
     "name": "stderr",
     "output_type": "stream",
     "text": [
      "2018-12-20 13:22:57,591 : INFO : PROGRESS: at sentence #250000, processed 5591639 words, keeping 73620 word types\n"
     ]
    },
    {
     "name": "stderr",
     "output_type": "stream",
     "text": [
      "2018-12-20 13:22:57,656 : INFO : PROGRESS: at sentence #260000, processed 5812902 words, keeping 74778 word types\n"
     ]
    },
    {
     "name": "stderr",
     "output_type": "stream",
     "text": [
      "2018-12-20 13:22:57,725 : INFO : PROGRESS: at sentence #270000, processed 6035539 words, keeping 76111 word types\n"
     ]
    },
    {
     "name": "stderr",
     "output_type": "stream",
     "text": [
      "2018-12-20 13:22:57,802 : INFO : PROGRESS: at sentence #280000, processed 6262673 words, keeping 77737 word types\n"
     ]
    },
    {
     "name": "stderr",
     "output_type": "stream",
     "text": [
      "2018-12-20 13:22:57,870 : INFO : PROGRESS: at sentence #290000, processed 6487100 words, keeping 79229 word types\n"
     ]
    },
    {
     "name": "stderr",
     "output_type": "stream",
     "text": [
      "2018-12-20 13:22:57,943 : INFO : PROGRESS: at sentence #300000, processed 6713050 words, keeping 80594 word types\n"
     ]
    },
    {
     "name": "stderr",
     "output_type": "stream",
     "text": [
      "2018-12-20 13:22:58,024 : INFO : PROGRESS: at sentence #310000, processed 6939617 words, keeping 81947 word types\n"
     ]
    },
    {
     "name": "stderr",
     "output_type": "stream",
     "text": [
      "2018-12-20 13:22:58,101 : INFO : PROGRESS: at sentence #320000, processed 7165784 words, keeping 83307 word types\n"
     ]
    },
    {
     "name": "stderr",
     "output_type": "stream",
     "text": [
      "2018-12-20 13:22:58,173 : INFO : PROGRESS: at sentence #330000, processed 7388850 words, keeping 84568 word types\n"
     ]
    },
    {
     "name": "stderr",
     "output_type": "stream",
     "text": [
      "2018-12-20 13:22:58,251 : INFO : PROGRESS: at sentence #340000, processed 7619626 words, keeping 85844 word types\n"
     ]
    },
    {
     "name": "stderr",
     "output_type": "stream",
     "text": [
      "2018-12-20 13:22:58,323 : INFO : PROGRESS: at sentence #350000, processed 7844225 words, keeping 87024 word types\n"
     ]
    },
    {
     "name": "stderr",
     "output_type": "stream",
     "text": [
      "2018-12-20 13:22:58,395 : INFO : PROGRESS: at sentence #360000, processed 8066077 words, keeping 88224 word types\n"
     ]
    },
    {
     "name": "stderr",
     "output_type": "stream",
     "text": [
      "2018-12-20 13:22:58,465 : INFO : PROGRESS: at sentence #370000, processed 8294502 words, keeping 89358 word types\n"
     ]
    },
    {
     "name": "stderr",
     "output_type": "stream",
     "text": [
      "2018-12-20 13:22:58,538 : INFO : PROGRESS: at sentence #380000, processed 8520969 words, keeping 90551 word types"
     ]
    },
    {
     "name": "stderr",
     "output_type": "stream",
     "text": [
      "\n"
     ]
    },
    {
     "name": "stderr",
     "output_type": "stream",
     "text": [
      "2018-12-20 13:22:58,612 : INFO : PROGRESS: at sentence #390000, processed 8752087 words, keeping 91609 word types\n"
     ]
    },
    {
     "name": "stderr",
     "output_type": "stream",
     "text": [
      "2018-12-20 13:22:58,685 : INFO : PROGRESS: at sentence #400000, processed 8976320 words, keeping 92659 word types"
     ]
    },
    {
     "name": "stderr",
     "output_type": "stream",
     "text": [
      "\n"
     ]
    },
    {
     "name": "stderr",
     "output_type": "stream",
     "text": [
      "2018-12-20 13:22:58,762 : INFO : PROGRESS: at sentence #410000, processed 9198945 words, keeping 93646 word types\n"
     ]
    },
    {
     "name": "stderr",
     "output_type": "stream",
     "text": [
      "2018-12-20 13:22:58,843 : INFO : PROGRESS: at sentence #420000, processed 9421335 words, keeping 94699 word types\n"
     ]
    },
    {
     "name": "stderr",
     "output_type": "stream",
     "text": [
      "2018-12-20 13:22:58,926 : INFO : PROGRESS: at sentence #430000, processed 9650286 words, keeping 95740 word types\n"
     ]
    },
    {
     "name": "stderr",
     "output_type": "stream",
     "text": [
      "2018-12-20 13:22:59,000 : INFO : PROGRESS: at sentence #440000, processed 9878400 words, keeping 96739 word types\n"
     ]
    },
    {
     "name": "stderr",
     "output_type": "stream",
     "text": [
      "2018-12-20 13:22:59,069 : INFO : PROGRESS: at sentence #450000, processed 10103393 words, keeping 97893 word types\n"
     ]
    },
    {
     "name": "stderr",
     "output_type": "stream",
     "text": [
      "2018-12-20 13:22:59,152 : INFO : PROGRESS: at sentence #460000, processed 10337523 words, keeping 98968 word types\n"
     ]
    },
    {
     "name": "stderr",
     "output_type": "stream",
     "text": [
      "2018-12-20 13:22:59,235 : INFO : PROGRESS: at sentence #470000, processed 10566707 words, keeping 99845 word types\n"
     ]
    },
    {
     "name": "stderr",
     "output_type": "stream",
     "text": [
      "2018-12-20 13:22:59,305 : INFO : PROGRESS: at sentence #480000, processed 10788353 words, keeping 100796 word types"
     ]
    },
    {
     "name": "stderr",
     "output_type": "stream",
     "text": [
      "\n"
     ]
    },
    {
     "name": "stderr",
     "output_type": "stream",
     "text": [
      "2018-12-20 13:22:59,375 : INFO : PROGRESS: at sentence #490000, processed 11016516 words, keeping 101878 word types\n"
     ]
    },
    {
     "name": "stderr",
     "output_type": "stream",
     "text": [
      "2018-12-20 13:22:59,486 : INFO : PROGRESS: at sentence #500000, processed 11239492 words, keeping 102801 word types\n"
     ]
    },
    {
     "name": "stderr",
     "output_type": "stream",
     "text": [
      "2018-12-20 13:22:59,588 : INFO : PROGRESS: at sentence #510000, processed 11466075 words, keeping 103750 word types\n"
     ]
    },
    {
     "name": "stderr",
     "output_type": "stream",
     "text": [
      "2018-12-20 13:22:59,678 : INFO : PROGRESS: at sentence #520000, processed 11690799 words, keeping 104669 word types\n"
     ]
    },
    {
     "name": "stderr",
     "output_type": "stream",
     "text": [
      "2018-12-20 13:22:59,750 : INFO : PROGRESS: at sentence #530000, processed 11916527 words, keeping 105502 word types\n"
     ]
    },
    {
     "name": "stderr",
     "output_type": "stream",
     "text": [
      "2018-12-20 13:22:59,827 : INFO : PROGRESS: at sentence #540000, processed 12142510 words, keeping 106401 word types\n"
     ]
    },
    {
     "name": "stderr",
     "output_type": "stream",
     "text": [
      "2018-12-20 13:22:59,896 : INFO : PROGRESS: at sentence #550000, processed 12369376 words, keeping 107290 word types\n"
     ]
    },
    {
     "name": "stderr",
     "output_type": "stream",
     "text": [
      "2018-12-20 13:22:59,963 : INFO : PROGRESS: at sentence #560000, processed 12591947 words, keeping 108175 word types"
     ]
    },
    {
     "name": "stderr",
     "output_type": "stream",
     "text": [
      "\n"
     ]
    },
    {
     "name": "stderr",
     "output_type": "stream",
     "text": [
      "2018-12-20 13:23:00,037 : INFO : PROGRESS: at sentence #570000, processed 12822406 words, keeping 108982 word types\n"
     ]
    },
    {
     "name": "stderr",
     "output_type": "stream",
     "text": [
      "2018-12-20 13:23:00,152 : INFO : PROGRESS: at sentence #580000, processed 13045171 words, keeping 109872 word types\n"
     ]
    },
    {
     "name": "stderr",
     "output_type": "stream",
     "text": [
      "2018-12-20 13:23:00,260 : INFO : PROGRESS: at sentence #590000, processed 13271905 words, keeping 110744 word types\n"
     ]
    },
    {
     "name": "stderr",
     "output_type": "stream",
     "text": [
      "2018-12-20 13:23:00,346 : INFO : PROGRESS: at sentence #600000, processed 13495426 words, keeping 111495 word types\n"
     ]
    },
    {
     "name": "stderr",
     "output_type": "stream",
     "text": [
      "2018-12-20 13:23:00,409 : INFO : PROGRESS: at sentence #610000, processed 13717726 words, keeping 112397 word types\n"
     ]
    },
    {
     "name": "stderr",
     "output_type": "stream",
     "text": [
      "2018-12-20 13:23:00,480 : INFO : PROGRESS: at sentence #620000, processed 13945488 words, keeping 113171 word types\n"
     ]
    },
    {
     "name": "stderr",
     "output_type": "stream",
     "text": [
      "2018-12-20 13:23:00,545 : INFO : PROGRESS: at sentence #630000, processed 14171064 words, keeping 113970 word types\n"
     ]
    },
    {
     "name": "stderr",
     "output_type": "stream",
     "text": [
      "2018-12-20 13:23:00,611 : INFO : PROGRESS: at sentence #640000, processed 14393088 words, keeping 114810 word types\n"
     ]
    },
    {
     "name": "stderr",
     "output_type": "stream",
     "text": [
      "2018-12-20 13:23:00,678 : INFO : PROGRESS: at sentence #650000, processed 14620290 words, keeping 115619 word types\n"
     ]
    },
    {
     "name": "stderr",
     "output_type": "stream",
     "text": [
      "2018-12-20 13:23:00,744 : INFO : PROGRESS: at sentence #660000, processed 14844358 words, keeping 116395 word types\n"
     ]
    },
    {
     "name": "stderr",
     "output_type": "stream",
     "text": [
      "2018-12-20 13:23:00,811 : INFO : PROGRESS: at sentence #670000, processed 15069027 words, keeping 117116 word types\n"
     ]
    },
    {
     "name": "stderr",
     "output_type": "stream",
     "text": [
      "2018-12-20 13:23:00,876 : INFO : PROGRESS: at sentence #680000, processed 15295190 words, keeping 117841 word types\n"
     ]
    },
    {
     "name": "stderr",
     "output_type": "stream",
     "text": [
      "2018-12-20 13:23:00,945 : INFO : PROGRESS: at sentence #690000, processed 15518608 words, keeping 118638 word types\n"
     ]
    },
    {
     "name": "stderr",
     "output_type": "stream",
     "text": [
      "2018-12-20 13:23:01,017 : INFO : PROGRESS: at sentence #700000, processed 15748536 words, keeping 119469 word types"
     ]
    },
    {
     "name": "stderr",
     "output_type": "stream",
     "text": [
      "\n"
     ]
    },
    {
     "name": "stderr",
     "output_type": "stream",
     "text": [
      "2018-12-20 13:23:01,083 : INFO : PROGRESS: at sentence #710000, processed 15972819 words, keeping 120131 word types\n"
     ]
    },
    {
     "name": "stderr",
     "output_type": "stream",
     "text": [
      "2018-12-20 13:23:01,150 : INFO : PROGRESS: at sentence #720000, processed 16199405 words, keeping 120766 word types\n"
     ]
    },
    {
     "name": "stderr",
     "output_type": "stream",
     "text": [
      "2018-12-20 13:23:01,216 : INFO : PROGRESS: at sentence #730000, processed 16427036 words, keeping 121514 word types\n"
     ]
    },
    {
     "name": "stderr",
     "output_type": "stream",
     "text": [
      "2018-12-20 13:23:01,285 : INFO : PROGRESS: at sentence #740000, processed 16649412 words, keeping 122243 word types"
     ]
    },
    {
     "name": "stderr",
     "output_type": "stream",
     "text": [
      "\n"
     ]
    },
    {
     "name": "stderr",
     "output_type": "stream",
     "text": [
      "2018-12-20 13:23:01,353 : INFO : PROGRESS: at sentence #750000, processed 16869072 words, keeping 122893 word types\n"
     ]
    },
    {
     "name": "stderr",
     "output_type": "stream",
     "text": [
      "2018-12-20 13:23:01,419 : INFO : PROGRESS: at sentence #760000, processed 17089761 words, keeping 123539 word types\n"
     ]
    },
    {
     "name": "stderr",
     "output_type": "stream",
     "text": [
      "2018-12-20 13:23:01,487 : INFO : PROGRESS: at sentence #770000, processed 17318248 words, keeping 124326 word types\n"
     ]
    },
    {
     "name": "stderr",
     "output_type": "stream",
     "text": [
      "2018-12-20 13:23:01,556 : INFO : PROGRESS: at sentence #780000, processed 17549751 words, keeping 125052 word types\n"
     ]
    },
    {
     "name": "stderr",
     "output_type": "stream",
     "text": [
      "2018-12-20 13:23:01,623 : INFO : PROGRESS: at sentence #790000, processed 17778071 words, keeping 125740 word types\n"
     ]
    },
    {
     "name": "stderr",
     "output_type": "stream",
     "text": [
      "2018-12-20 13:23:01,662 : INFO : collected 126187 word types from a corpus of 17901873 raw words and 795538 sentences\n"
     ]
    },
    {
     "name": "stderr",
     "output_type": "stream",
     "text": [
      "2018-12-20 13:23:01,663 : INFO : Loading a fresh vocabulary\n"
     ]
    },
    {
     "name": "stderr",
     "output_type": "stream",
     "text": [
      "2018-12-20 13:23:01,777 : INFO : effective_min_count=50 retains 14720 unique words (11% of original 126187, drops 111467)\n"
     ]
    },
    {
     "name": "stderr",
     "output_type": "stream",
     "text": [
      "2018-12-20 13:23:01,779 : INFO : effective_min_count=50 leaves 17246668 word corpus (96% of original 17901873, drops 655205)\n"
     ]
    },
    {
     "name": "stderr",
     "output_type": "stream",
     "text": [
      "2018-12-20 13:23:01,870 : INFO : deleting the raw counts dictionary of 126187 items"
     ]
    },
    {
     "name": "stderr",
     "output_type": "stream",
     "text": [
      "\n"
     ]
    },
    {
     "name": "stderr",
     "output_type": "stream",
     "text": [
      "2018-12-20 13:23:01,874 : INFO : sample=0.001 downsamples 48 most-common words\n"
     ]
    },
    {
     "name": "stderr",
     "output_type": "stream",
     "text": [
      "2018-12-20 13:23:01,875 : INFO : downsampling leaves estimated 12763654 word corpus (74.0% of prior 17246668)\n"
     ]
    },
    {
     "name": "stderr",
     "output_type": "stream",
     "text": [
      "2018-12-20 13:23:01,943 : INFO : estimated required memory for 14720 words and 300 dimensions: 42688000 bytes\n"
     ]
    },
    {
     "name": "stderr",
     "output_type": "stream",
     "text": [
      "2018-12-20 13:23:01,944 : INFO : resetting layer weights\n"
     ]
    },
    {
     "name": "stderr",
     "output_type": "stream",
     "text": [
      "2018-12-20 13:23:02,360 : INFO : training model with 4 workers on 14720 vocabulary and 300 features, using sg=0 hs=0 sample=0.001 negative=5 window=10\n"
     ]
    },
    {
     "name": "stderr",
     "output_type": "stream",
     "text": [
      "2018-12-20 13:23:03,384 : INFO : EPOCH 1 - PROGRESS: at 2.66% examples, 339413 words/s, in_qsize 7, out_qsize 0\n"
     ]
    },
    {
     "name": "stderr",
     "output_type": "stream",
     "text": [
      "2018-12-20 13:23:04,398 : INFO : EPOCH 1 - PROGRESS: at 5.45% examples, 345028 words/s, in_qsize 7, out_qsize 0\n"
     ]
    },
    {
     "name": "stderr",
     "output_type": "stream",
     "text": [
      "2018-12-20 13:23:05,403 : INFO : EPOCH 1 - PROGRESS: at 8.33% examples, 350137 words/s, in_qsize 7, out_qsize 0\n"
     ]
    },
    {
     "name": "stderr",
     "output_type": "stream",
     "text": [
      "2018-12-20 13:23:06,414 : INFO : EPOCH 1 - PROGRESS: at 11.19% examples, 352284 words/s, in_qsize 7, out_qsize 0\n"
     ]
    },
    {
     "name": "stderr",
     "output_type": "stream",
     "text": [
      "2018-12-20 13:23:07,436 : INFO : EPOCH 1 - PROGRESS: at 14.02% examples, 351565 words/s, in_qsize 7, out_qsize 0\n"
     ]
    },
    {
     "name": "stderr",
     "output_type": "stream",
     "text": [
      "2018-12-20 13:23:08,441 : INFO : EPOCH 1 - PROGRESS: at 17.47% examples, 364971 words/s, in_qsize 7, out_qsize 0\n"
     ]
    },
    {
     "name": "stderr",
     "output_type": "stream",
     "text": [
      "2018-12-20 13:23:09,450 : INFO : EPOCH 1 - PROGRESS: at 21.05% examples, 377245 words/s, in_qsize 7, out_qsize 0\n"
     ]
    },
    {
     "name": "stderr",
     "output_type": "stream",
     "text": [
      "2018-12-20 13:23:10,452 : INFO : EPOCH 1 - PROGRESS: at 24.63% examples, 386915 words/s, in_qsize 7, out_qsize 0\n"
     ]
    },
    {
     "name": "stderr",
     "output_type": "stream",
     "text": [
      "2018-12-20 13:23:11,466 : INFO : EPOCH 1 - PROGRESS: at 28.26% examples, 394620 words/s, in_qsize 7, out_qsize 0\n"
     ]
    },
    {
     "name": "stderr",
     "output_type": "stream",
     "text": [
      "2018-12-20 13:23:12,491 : INFO : EPOCH 1 - PROGRESS: at 31.83% examples, 398939 words/s, in_qsize 7, out_qsize 0\n"
     ]
    },
    {
     "name": "stderr",
     "output_type": "stream",
     "text": [
      "2018-12-20 13:23:13,507 : INFO : EPOCH 1 - PROGRESS: at 35.46% examples, 404025 words/s, in_qsize 7, out_qsize 0\n"
     ]
    },
    {
     "name": "stderr",
     "output_type": "stream",
     "text": [
      "2018-12-20 13:23:14,511 : INFO : EPOCH 1 - PROGRESS: at 39.13% examples, 409351 words/s, in_qsize 7, out_qsize 0\n"
     ]
    },
    {
     "name": "stderr",
     "output_type": "stream",
     "text": [
      "2018-12-20 13:23:15,517 : INFO : EPOCH 1 - PROGRESS: at 42.78% examples, 413744 words/s, in_qsize 7, out_qsize 0\n"
     ]
    },
    {
     "name": "stderr",
     "output_type": "stream",
     "text": [
      "2018-12-20 13:23:16,531 : INFO : EPOCH 1 - PROGRESS: at 46.46% examples, 417255 words/s, in_qsize 7, out_qsize 0\n"
     ]
    },
    {
     "name": "stderr",
     "output_type": "stream",
     "text": [
      "2018-12-20 13:23:17,536 : INFO : EPOCH 1 - PROGRESS: at 49.87% examples, 418687 words/s, in_qsize 7, out_qsize 0\n"
     ]
    },
    {
     "name": "stderr",
     "output_type": "stream",
     "text": [
      "2018-12-20 13:23:18,539 : INFO : EPOCH 1 - PROGRESS: at 53.52% examples, 421348 words/s, in_qsize 7, out_qsize 0\n"
     ]
    },
    {
     "name": "stderr",
     "output_type": "stream",
     "text": [
      "2018-12-20 13:23:19,560 : INFO : EPOCH 1 - PROGRESS: at 56.94% examples, 421926 words/s, in_qsize 7, out_qsize 0\n"
     ]
    },
    {
     "name": "stderr",
     "output_type": "stream",
     "text": [
      "2018-12-20 13:23:20,569 : INFO : EPOCH 1 - PROGRESS: at 60.23% examples, 422004 words/s, in_qsize 7, out_qsize 0\n"
     ]
    },
    {
     "name": "stderr",
     "output_type": "stream",
     "text": [
      "2018-12-20 13:23:21,581 : INFO : EPOCH 1 - PROGRESS: at 63.80% examples, 423483 words/s, in_qsize 7, out_qsize 0\n"
     ]
    },
    {
     "name": "stderr",
     "output_type": "stream",
     "text": [
      "2018-12-20 13:23:22,606 : INFO : EPOCH 1 - PROGRESS: at 67.51% examples, 425613 words/s, in_qsize 7, out_qsize 0\n"
     ]
    },
    {
     "name": "stderr",
     "output_type": "stream",
     "text": [
      "2018-12-20 13:23:23,610 : INFO : EPOCH 1 - PROGRESS: at 70.97% examples, 426303 words/s, in_qsize 7, out_qsize 0\n"
     ]
    },
    {
     "name": "stderr",
     "output_type": "stream",
     "text": [
      "2018-12-20 13:23:24,611 : INFO : EPOCH 1 - PROGRESS: at 74.69% examples, 428571 words/s, in_qsize 7, out_qsize 0\n"
     ]
    },
    {
     "name": "stderr",
     "output_type": "stream",
     "text": [
      "2018-12-20 13:23:25,618 : INFO : EPOCH 1 - PROGRESS: at 78.25% examples, 429587 words/s, in_qsize 7, out_qsize 0\n"
     ]
    },
    {
     "name": "stderr",
     "output_type": "stream",
     "text": [
      "2018-12-20 13:23:26,640 : INFO : EPOCH 1 - PROGRESS: at 82.00% examples, 431150 words/s, in_qsize 7, out_qsize 0\n"
     ]
    },
    {
     "name": "stderr",
     "output_type": "stream",
     "text": [
      "2018-12-20 13:23:27,643 : INFO : EPOCH 1 - PROGRESS: at 85.63% examples, 432359 words/s, in_qsize 7, out_qsize 0\n"
     ]
    },
    {
     "name": "stderr",
     "output_type": "stream",
     "text": [
      "2018-12-20 13:23:28,646 : INFO : EPOCH 1 - PROGRESS: at 89.24% examples, 433450 words/s, in_qsize 7, out_qsize 0\n"
     ]
    },
    {
     "name": "stderr",
     "output_type": "stream",
     "text": [
      "2018-12-20 13:23:29,662 : INFO : EPOCH 1 - PROGRESS: at 92.80% examples, 434010 words/s, in_qsize 7, out_qsize 0\n"
     ]
    },
    {
     "name": "stderr",
     "output_type": "stream",
     "text": [
      "2018-12-20 13:23:30,689 : INFO : EPOCH 1 - PROGRESS: at 96.40% examples, 434355 words/s, in_qsize 7, out_qsize 2\n"
     ]
    },
    {
     "name": "stderr",
     "output_type": "stream",
     "text": [
      "2018-12-20 13:23:31,715 : INFO : EPOCH 1 - PROGRESS: at 99.14% examples, 431300 words/s, in_qsize 7, out_qsize 0\n"
     ]
    },
    {
     "name": "stderr",
     "output_type": "stream",
     "text": [
      "2018-12-20 13:23:31,961 : INFO : worker thread finished; awaiting finish of 3 more threads\n"
     ]
    },
    {
     "name": "stderr",
     "output_type": "stream",
     "text": [
      "2018-12-20 13:23:31,965 : INFO : worker thread finished; awaiting finish of 2 more threads\n"
     ]
    },
    {
     "name": "stderr",
     "output_type": "stream",
     "text": [
      "2018-12-20 13:23:31,981 : INFO : worker thread finished; awaiting finish of 1 more threads\n"
     ]
    },
    {
     "name": "stderr",
     "output_type": "stream",
     "text": [
      "2018-12-20 13:23:31,988 : INFO : worker thread finished; awaiting finish of 0 more threads\n"
     ]
    },
    {
     "name": "stderr",
     "output_type": "stream",
     "text": [
      "2018-12-20 13:23:31,989 : INFO : EPOCH - 1 : training on 17901873 raw words (12763088 effective words) took 29.6s, 431009 effective words/s\n"
     ]
    },
    {
     "name": "stderr",
     "output_type": "stream",
     "text": [
      "2018-12-20 13:23:33,009 : INFO : EPOCH 2 - PROGRESS: at 2.27% examples, 289387 words/s, in_qsize 7, out_qsize 0\n"
     ]
    },
    {
     "name": "stderr",
     "output_type": "stream",
     "text": [
      "2018-12-20 13:23:34,015 : INFO : EPOCH 2 - PROGRESS: at 4.89% examples, 310672 words/s, in_qsize 7, out_qsize 0\n"
     ]
    },
    {
     "name": "stderr",
     "output_type": "stream",
     "text": [
      "2018-12-20 13:23:35,042 : INFO : EPOCH 2 - PROGRESS: at 7.72% examples, 322630 words/s, in_qsize 7, out_qsize 0\n"
     ]
    },
    {
     "name": "stderr",
     "output_type": "stream",
     "text": [
      "2018-12-20 13:23:36,044 : INFO : EPOCH 2 - PROGRESS: at 10.57% examples, 332484 words/s, in_qsize 7, out_qsize 0\n"
     ]
    },
    {
     "name": "stderr",
     "output_type": "stream",
     "text": [
      "2018-12-20 13:23:37,056 : INFO : EPOCH 2 - PROGRESS: at 13.40% examples, 336442 words/s, in_qsize 8, out_qsize 0\n"
     ]
    },
    {
     "name": "stderr",
     "output_type": "stream",
     "text": [
      "2018-12-20 13:23:38,056 : INFO : EPOCH 2 - PROGRESS: at 16.19% examples, 339654 words/s, in_qsize 7, out_qsize 0\n"
     ]
    },
    {
     "name": "stderr",
     "output_type": "stream",
     "text": [
      "2018-12-20 13:23:39,087 : INFO : EPOCH 2 - PROGRESS: at 19.09% examples, 341390 words/s, in_qsize 7, out_qsize 0\n"
     ]
    },
    {
     "name": "stderr",
     "output_type": "stream",
     "text": [
      "2018-12-20 13:23:40,088 : INFO : EPOCH 2 - PROGRESS: at 21.61% examples, 338780 words/s, in_qsize 7, out_qsize 0\n"
     ]
    },
    {
     "name": "stderr",
     "output_type": "stream",
     "text": [
      "2018-12-20 13:23:41,090 : INFO : EPOCH 2 - PROGRESS: at 23.73% examples, 331261 words/s, in_qsize 7, out_qsize 0\n"
     ]
    },
    {
     "name": "stderr",
     "output_type": "stream",
     "text": [
      "2018-12-20 13:23:42,107 : INFO : EPOCH 2 - PROGRESS: at 26.48% examples, 332434 words/s, in_qsize 7, out_qsize 0\n"
     ]
    },
    {
     "name": "stderr",
     "output_type": "stream",
     "text": [
      "2018-12-20 13:23:43,112 : INFO : EPOCH 2 - PROGRESS: at 29.15% examples, 333063 words/s, in_qsize 7, out_qsize 0\n"
     ]
    },
    {
     "name": "stderr",
     "output_type": "stream",
     "text": [
      "2018-12-20 13:23:44,203 : INFO : EPOCH 2 - PROGRESS: at 31.49% examples, 327196 words/s, in_qsize 7, out_qsize 0\n"
     ]
    },
    {
     "name": "stderr",
     "output_type": "stream",
     "text": [
      "2018-12-20 13:23:45,219 : INFO : EPOCH 2 - PROGRESS: at 33.92% examples, 325186 words/s, in_qsize 6, out_qsize 1\n"
     ]
    },
    {
     "name": "stderr",
     "output_type": "stream",
     "text": [
      "2018-12-20 13:23:46,227 : INFO : EPOCH 2 - PROGRESS: at 36.57% examples, 326153 words/s, in_qsize 6, out_qsize 1\n"
     ]
    },
    {
     "name": "stderr",
     "output_type": "stream",
     "text": [
      "2018-12-20 13:23:47,247 : INFO : EPOCH 2 - PROGRESS: at 39.25% examples, 326770 words/s, in_qsize 7, out_qsize 0\n"
     ]
    },
    {
     "name": "stderr",
     "output_type": "stream",
     "text": [
      "2018-12-20 13:23:48,259 : INFO : EPOCH 2 - PROGRESS: at 41.95% examples, 327899 words/s, in_qsize 7, out_qsize 0\n"
     ]
    },
    {
     "name": "stderr",
     "output_type": "stream",
     "text": [
      "2018-12-20 13:23:49,285 : INFO : EPOCH 2 - PROGRESS: at 44.07% examples, 324115 words/s, in_qsize 7, out_qsize 0\n"
     ]
    },
    {
     "name": "stderr",
     "output_type": "stream",
     "text": [
      "2018-12-20 13:23:50,307 : INFO : EPOCH 2 - PROGRESS: at 46.34% examples, 322232 words/s, in_qsize 7, out_qsize 1\n"
     ]
    },
    {
     "name": "stderr",
     "output_type": "stream",
     "text": [
      "2018-12-20 13:23:51,293 : INFO : EPOCH 2 - PROGRESS: at 48.37% examples, 319124 words/s, in_qsize 7, out_qsize 0\n"
     ]
    },
    {
     "name": "stderr",
     "output_type": "stream",
     "text": [
      "2018-12-20 13:23:52,303 : INFO : EPOCH 2 - PROGRESS: at 50.94% examples, 319407 words/s, in_qsize 7, out_qsize 0\n"
     ]
    },
    {
     "name": "stderr",
     "output_type": "stream",
     "text": [
      "2018-12-20 13:23:53,310 : INFO : EPOCH 2 - PROGRESS: at 53.69% examples, 320655 words/s, in_qsize 7, out_qsize 0\n"
     ]
    },
    {
     "name": "stderr",
     "output_type": "stream",
     "text": [
      "2018-12-20 13:23:54,320 : INFO : EPOCH 2 - PROGRESS: at 56.33% examples, 321416 words/s, in_qsize 6, out_qsize 1\n"
     ]
    },
    {
     "name": "stderr",
     "output_type": "stream",
     "text": [
      "2018-12-20 13:23:55,321 : INFO : EPOCH 2 - PROGRESS: at 58.99% examples, 322574 words/s, in_qsize 7, out_qsize 0\n"
     ]
    },
    {
     "name": "stderr",
     "output_type": "stream",
     "text": [
      "2018-12-20 13:23:56,344 : INFO : EPOCH 2 - PROGRESS: at 61.39% examples, 321579 words/s, in_qsize 7, out_qsize 0\n"
     ]
    },
    {
     "name": "stderr",
     "output_type": "stream",
     "text": [
      "2018-12-20 13:23:57,454 : INFO : EPOCH 2 - PROGRESS: at 63.63% examples, 318721 words/s, in_qsize 7, out_qsize 0\n"
     ]
    },
    {
     "name": "stderr",
     "output_type": "stream",
     "text": [
      "2018-12-20 13:23:58,471 : INFO : EPOCH 2 - PROGRESS: at 66.28% examples, 319401 words/s, in_qsize 7, out_qsize 0\n"
     ]
    },
    {
     "name": "stderr",
     "output_type": "stream",
     "text": [
      "2018-12-20 13:23:59,486 : INFO : EPOCH 2 - PROGRESS: at 68.77% examples, 318999 words/s, in_qsize 6, out_qsize 1\n"
     ]
    },
    {
     "name": "stderr",
     "output_type": "stream",
     "text": [
      "2018-12-20 13:24:00,513 : INFO : EPOCH 2 - PROGRESS: at 70.86% examples, 317021 words/s, in_qsize 7, out_qsize 0\n"
     ]
    },
    {
     "name": "stderr",
     "output_type": "stream",
     "text": [
      "2018-12-20 13:24:01,517 : INFO : EPOCH 2 - PROGRESS: at 73.46% examples, 317569 words/s, in_qsize 7, out_qsize 0\n"
     ]
    },
    {
     "name": "stderr",
     "output_type": "stream",
     "text": [
      "2018-12-20 13:24:02,518 : INFO : EPOCH 2 - PROGRESS: at 76.22% examples, 318569 words/s, in_qsize 7, out_qsize 0\n"
     ]
    },
    {
     "name": "stderr",
     "output_type": "stream",
     "text": [
      "2018-12-20 13:24:03,529 : INFO : EPOCH 2 - PROGRESS: at 78.94% examples, 319431 words/s, in_qsize 7, out_qsize 0\n"
     ]
    },
    {
     "name": "stderr",
     "output_type": "stream",
     "text": [
      "2018-12-20 13:24:04,569 : INFO : EPOCH 2 - PROGRESS: at 81.34% examples, 318624 words/s, in_qsize 7, out_qsize 0\n"
     ]
    },
    {
     "name": "stderr",
     "output_type": "stream",
     "text": [
      "2018-12-20 13:24:05,634 : INFO : EPOCH 2 - PROGRESS: at 83.40% examples, 316359 words/s, in_qsize 8, out_qsize 1\n"
     ]
    },
    {
     "name": "stderr",
     "output_type": "stream",
     "text": [
      "2018-12-20 13:24:06,672 : INFO : EPOCH 2 - PROGRESS: at 85.63% examples, 315093 words/s, in_qsize 7, out_qsize 0\n"
     ]
    },
    {
     "name": "stderr",
     "output_type": "stream",
     "text": [
      "2018-12-20 13:24:07,689 : INFO : EPOCH 2 - PROGRESS: at 88.22% examples, 315473 words/s, in_qsize 7, out_qsize 0\n"
     ]
    },
    {
     "name": "stderr",
     "output_type": "stream",
     "text": [
      "2018-12-20 13:24:08,747 : INFO : EPOCH 2 - PROGRESS: at 90.90% examples, 315699 words/s, in_qsize 8, out_qsize 0\n"
     ]
    },
    {
     "name": "stderr",
     "output_type": "stream",
     "text": [
      "2018-12-20 13:24:09,754 : INFO : EPOCH 2 - PROGRESS: at 93.58% examples, 316330 words/s, in_qsize 7, out_qsize 0\n"
     ]
    },
    {
     "name": "stderr",
     "output_type": "stream",
     "text": [
      "2018-12-20 13:24:10,782 : INFO : EPOCH 2 - PROGRESS: at 96.40% examples, 317134 words/s, in_qsize 7, out_qsize 0\n"
     ]
    },
    {
     "name": "stderr",
     "output_type": "stream",
     "text": [
      "2018-12-20 13:24:11,788 : INFO : EPOCH 2 - PROGRESS: at 99.03% examples, 317708 words/s, in_qsize 6, out_qsize 1\n"
     ]
    },
    {
     "name": "stderr",
     "output_type": "stream",
     "text": [
      "2018-12-20 13:24:12,083 : INFO : worker thread finished; awaiting finish of 3 more threads\n"
     ]
    },
    {
     "name": "stderr",
     "output_type": "stream",
     "text": [
      "2018-12-20 13:24:12,086 : INFO : worker thread finished; awaiting finish of 2 more threads\n"
     ]
    },
    {
     "name": "stderr",
     "output_type": "stream",
     "text": [
      "2018-12-20 13:24:12,092 : INFO : worker thread finished; awaiting finish of 1 more threads\n"
     ]
    },
    {
     "name": "stderr",
     "output_type": "stream",
     "text": [
      "2018-12-20 13:24:12,101 : INFO : worker thread finished; awaiting finish of 0 more threads\n"
     ]
    },
    {
     "name": "stderr",
     "output_type": "stream",
     "text": [
      "2018-12-20 13:24:12,102 : INFO : EPOCH - 2 : training on 17901873 raw words (12764924 effective words) took 40.1s, 318314 effective words/s\n"
     ]
    },
    {
     "name": "stderr",
     "output_type": "stream",
     "text": [
      "2018-12-20 13:24:13,147 : INFO : EPOCH 3 - PROGRESS: at 2.60% examples, 323389 words/s, in_qsize 7, out_qsize 0\n"
     ]
    },
    {
     "name": "stderr",
     "output_type": "stream",
     "text": [
      "2018-12-20 13:24:14,157 : INFO : EPOCH 3 - PROGRESS: at 5.11% examples, 320046 words/s, in_qsize 6, out_qsize 1\n"
     ]
    },
    {
     "name": "stderr",
     "output_type": "stream",
     "text": [
      "2018-12-20 13:24:15,158 : INFO : EPOCH 3 - PROGRESS: at 7.66% examples, 319740 words/s, in_qsize 7, out_qsize 0\n"
     ]
    },
    {
     "name": "stderr",
     "output_type": "stream",
     "text": [
      "2018-12-20 13:24:16,183 : INFO : EPOCH 3 - PROGRESS: at 10.47% examples, 326766 words/s, in_qsize 6, out_qsize 1\n"
     ]
    },
    {
     "name": "stderr",
     "output_type": "stream",
     "text": [
      "2018-12-20 13:24:17,215 : INFO : EPOCH 3 - PROGRESS: at 13.40% examples, 333328 words/s, in_qsize 7, out_qsize 0\n"
     ]
    },
    {
     "name": "stderr",
     "output_type": "stream",
     "text": [
      "2018-12-20 13:24:18,215 : INFO : EPOCH 3 - PROGRESS: at 16.02% examples, 333568 words/s, in_qsize 7, out_qsize 0\n"
     ]
    },
    {
     "name": "stderr",
     "output_type": "stream",
     "text": [
      "2018-12-20 13:24:19,219 : INFO : EPOCH 3 - PROGRESS: at 19.49% examples, 347418 words/s, in_qsize 7, out_qsize 0\n"
     ]
    },
    {
     "name": "stderr",
     "output_type": "stream",
     "text": [
      "2018-12-20 13:24:20,225 : INFO : EPOCH 3 - PROGRESS: at 23.19% examples, 362372 words/s, in_qsize 7, out_qsize 0\n"
     ]
    },
    {
     "name": "stderr",
     "output_type": "stream",
     "text": [
      "2018-12-20 13:24:21,240 : INFO : EPOCH 3 - PROGRESS: at 26.92% examples, 374309 words/s, in_qsize 6, out_qsize 1\n"
     ]
    },
    {
     "name": "stderr",
     "output_type": "stream",
     "text": [
      "2018-12-20 13:24:22,260 : INFO : EPOCH 3 - PROGRESS: at 30.61% examples, 382972 words/s, in_qsize 8, out_qsize 0\n"
     ]
    },
    {
     "name": "stderr",
     "output_type": "stream",
     "text": [
      "2018-12-20 13:24:23,272 : INFO : EPOCH 3 - PROGRESS: at 34.30% examples, 389674 words/s, in_qsize 7, out_qsize 0\n"
     ]
    },
    {
     "name": "stderr",
     "output_type": "stream",
     "text": [
      "2018-12-20 13:24:24,291 : INFO : EPOCH 3 - PROGRESS: at 38.01% examples, 396275 words/s, in_qsize 7, out_qsize 0\n"
     ]
    },
    {
     "name": "stderr",
     "output_type": "stream",
     "text": [
      "2018-12-20 13:24:25,314 : INFO : EPOCH 3 - PROGRESS: at 41.63% examples, 400582 words/s, in_qsize 7, out_qsize 0\n"
     ]
    },
    {
     "name": "stderr",
     "output_type": "stream",
     "text": [
      "2018-12-20 13:24:26,314 : INFO : EPOCH 3 - PROGRESS: at 45.20% examples, 404464 words/s, in_qsize 7, out_qsize 0\n"
     ]
    },
    {
     "name": "stderr",
     "output_type": "stream",
     "text": [
      "2018-12-20 13:24:27,319 : INFO : EPOCH 3 - PROGRESS: at 48.76% examples, 408158 words/s, in_qsize 7, out_qsize 0\n"
     ]
    },
    {
     "name": "stderr",
     "output_type": "stream",
     "text": [
      "2018-12-20 13:24:28,345 : INFO : EPOCH 3 - PROGRESS: at 52.58% examples, 412169 words/s, in_qsize 7, out_qsize 0\n"
     ]
    },
    {
     "name": "stderr",
     "output_type": "stream",
     "text": [
      "2018-12-20 13:24:29,358 : INFO : EPOCH 3 - PROGRESS: at 56.33% examples, 415985 words/s, in_qsize 7, out_qsize 0\n"
     ]
    },
    {
     "name": "stderr",
     "output_type": "stream",
     "text": [
      "2018-12-20 13:24:30,359 : INFO : EPOCH 3 - PROGRESS: at 59.87% examples, 418547 words/s, in_qsize 7, out_qsize 0\n"
     ]
    },
    {
     "name": "stderr",
     "output_type": "stream",
     "text": [
      "2018-12-20 13:24:31,372 : INFO : EPOCH 3 - PROGRESS: at 63.63% examples, 421273 words/s, in_qsize 7, out_qsize 0\n"
     ]
    },
    {
     "name": "stderr",
     "output_type": "stream",
     "text": [
      "2018-12-20 13:24:32,383 : INFO : EPOCH 3 - PROGRESS: at 67.34% examples, 423791 words/s, in_qsize 7, out_qsize 0\n"
     ]
    },
    {
     "name": "stderr",
     "output_type": "stream",
     "text": [
      "2018-12-20 13:24:33,388 : INFO : EPOCH 3 - PROGRESS: at 71.02% examples, 425893 words/s, in_qsize 7, out_qsize 0\n"
     ]
    },
    {
     "name": "stderr",
     "output_type": "stream",
     "text": [
      "2018-12-20 13:24:34,389 : INFO : EPOCH 3 - PROGRESS: at 74.75% examples, 428136 words/s, in_qsize 7, out_qsize 0\n"
     ]
    },
    {
     "name": "stderr",
     "output_type": "stream",
     "text": [
      "2018-12-20 13:24:35,391 : INFO : EPOCH 3 - PROGRESS: at 78.36% examples, 429588 words/s, in_qsize 7, out_qsize 0\n"
     ]
    },
    {
     "name": "stderr",
     "output_type": "stream",
     "text": [
      "2018-12-20 13:24:36,394 : INFO : EPOCH 3 - PROGRESS: at 82.06% examples, 431196 words/s, in_qsize 7, out_qsize 0\n"
     ]
    },
    {
     "name": "stderr",
     "output_type": "stream",
     "text": [
      "2018-12-20 13:24:37,408 : INFO : EPOCH 3 - PROGRESS: at 85.79% examples, 432782 words/s, in_qsize 7, out_qsize 0\n"
     ]
    },
    {
     "name": "stderr",
     "output_type": "stream",
     "text": [
      "2018-12-20 13:24:38,421 : INFO : EPOCH 3 - PROGRESS: at 89.51% examples, 434222 words/s, in_qsize 7, out_qsize 0\n"
     ]
    },
    {
     "name": "stderr",
     "output_type": "stream",
     "text": [
      "2018-12-20 13:24:39,437 : INFO : EPOCH 3 - PROGRESS: at 93.13% examples, 435009 words/s, in_qsize 8, out_qsize 0\n"
     ]
    },
    {
     "name": "stderr",
     "output_type": "stream",
     "text": [
      "2018-12-20 13:24:40,452 : INFO : EPOCH 3 - PROGRESS: at 96.90% examples, 436253 words/s, in_qsize 7, out_qsize 0\n"
     ]
    },
    {
     "name": "stderr",
     "output_type": "stream",
     "text": [
      "2018-12-20 13:24:41,257 : INFO : worker thread finished; awaiting finish of 3 more threads\n"
     ]
    },
    {
     "name": "stderr",
     "output_type": "stream",
     "text": [
      "2018-12-20 13:24:41,276 : INFO : worker thread finished; awaiting finish of 2 more threads\n"
     ]
    },
    {
     "name": "stderr",
     "output_type": "stream",
     "text": [
      "2018-12-20 13:24:41,277 : INFO : worker thread finished; awaiting finish of 1 more threads\n"
     ]
    },
    {
     "name": "stderr",
     "output_type": "stream",
     "text": [
      "2018-12-20 13:24:41,287 : INFO : worker thread finished; awaiting finish of 0 more threads\n"
     ]
    },
    {
     "name": "stderr",
     "output_type": "stream",
     "text": [
      "2018-12-20 13:24:41,288 : INFO : EPOCH - 3 : training on 17901873 raw words (12765184 effective words) took 29.2s, 437526 effective words/s\n"
     ]
    },
    {
     "name": "stderr",
     "output_type": "stream",
     "text": [
      "2018-12-20 13:24:42,310 : INFO : EPOCH 4 - PROGRESS: at 3.57% examples, 453633 words/s, in_qsize 8, out_qsize 0\n"
     ]
    },
    {
     "name": "stderr",
     "output_type": "stream",
     "text": [
      "2018-12-20 13:24:43,341 : INFO : EPOCH 4 - PROGRESS: at 7.20% examples, 450570 words/s, in_qsize 7, out_qsize 0\n"
     ]
    },
    {
     "name": "stderr",
     "output_type": "stream",
     "text": [
      "2018-12-20 13:24:44,351 : INFO : EPOCH 4 - PROGRESS: at 10.69% examples, 446095 words/s, in_qsize 7, out_qsize 0\n"
     ]
    },
    {
     "name": "stderr",
     "output_type": "stream",
     "text": [
      "2018-12-20 13:24:45,357 : INFO : EPOCH 4 - PROGRESS: at 14.31% examples, 447882 words/s, in_qsize 7, out_qsize 0\n"
     ]
    },
    {
     "name": "stderr",
     "output_type": "stream",
     "text": [
      "2018-12-20 13:24:46,374 : INFO : EPOCH 4 - PROGRESS: at 18.03% examples, 450712 words/s, in_qsize 7, out_qsize 0\n"
     ]
    },
    {
     "name": "stderr",
     "output_type": "stream",
     "text": [
      "2018-12-20 13:24:47,391 : INFO : EPOCH 4 - PROGRESS: at 21.74% examples, 452619 words/s, in_qsize 7, out_qsize 0\n"
     ]
    },
    {
     "name": "stderr",
     "output_type": "stream",
     "text": [
      "2018-12-20 13:24:48,405 : INFO : EPOCH 4 - PROGRESS: at 25.18% examples, 450156 words/s, in_qsize 7, out_qsize 0\n"
     ]
    },
    {
     "name": "stderr",
     "output_type": "stream",
     "text": [
      "2018-12-20 13:24:49,433 : INFO : EPOCH 4 - PROGRESS: at 28.76% examples, 449258 words/s, in_qsize 6, out_qsize 1\n"
     ]
    },
    {
     "name": "stderr",
     "output_type": "stream",
     "text": [
      "2018-12-20 13:24:50,461 : INFO : EPOCH 4 - PROGRESS: at 32.05% examples, 443893 words/s, in_qsize 7, out_qsize 0\n"
     ]
    },
    {
     "name": "stderr",
     "output_type": "stream",
     "text": [
      "2018-12-20 13:24:51,480 : INFO : EPOCH 4 - PROGRESS: at 35.46% examples, 442002 words/s, in_qsize 7, out_qsize 0\n"
     ]
    },
    {
     "name": "stderr",
     "output_type": "stream",
     "text": [
      "2018-12-20 13:24:52,492 : INFO : EPOCH 4 - PROGRESS: at 39.19% examples, 444688 words/s, in_qsize 7, out_qsize 0\n"
     ]
    },
    {
     "name": "stderr",
     "output_type": "stream",
     "text": [
      "2018-12-20 13:24:53,500 : INFO : EPOCH 4 - PROGRESS: at 42.89% examples, 447028 words/s, in_qsize 7, out_qsize 0\n"
     ]
    },
    {
     "name": "stderr",
     "output_type": "stream",
     "text": [
      "2018-12-20 13:24:54,504 : INFO : EPOCH 4 - PROGRESS: at 46.56% examples, 448568 words/s, in_qsize 7, out_qsize 0\n"
     ]
    },
    {
     "name": "stderr",
     "output_type": "stream",
     "text": [
      "2018-12-20 13:24:55,518 : INFO : EPOCH 4 - PROGRESS: at 50.27% examples, 450156 words/s, in_qsize 7, out_qsize 0\n"
     ]
    },
    {
     "name": "stderr",
     "output_type": "stream",
     "text": [
      "2018-12-20 13:24:56,536 : INFO : EPOCH 4 - PROGRESS: at 53.90% examples, 450427 words/s, in_qsize 8, out_qsize 1\n"
     ]
    },
    {
     "name": "stderr",
     "output_type": "stream",
     "text": [
      "2018-12-20 13:24:57,551 : INFO : EPOCH 4 - PROGRESS: at 56.56% examples, 443298 words/s, in_qsize 8, out_qsize 0\n"
     ]
    },
    {
     "name": "stderr",
     "output_type": "stream",
     "text": [
      "2018-12-20 13:24:58,585 : INFO : EPOCH 4 - PROGRESS: at 58.62% examples, 432439 words/s, in_qsize 7, out_qsize 0\n"
     ]
    },
    {
     "name": "stderr",
     "output_type": "stream",
     "text": [
      "2018-12-20 13:24:59,586 : INFO : EPOCH 4 - PROGRESS: at 60.40% examples, 421196 words/s, in_qsize 7, out_qsize 0\n"
     ]
    },
    {
     "name": "stderr",
     "output_type": "stream",
     "text": [
      "2018-12-20 13:25:00,625 : INFO : EPOCH 4 - PROGRESS: at 61.89% examples, 408492 words/s, in_qsize 7, out_qsize 0\n"
     ]
    },
    {
     "name": "stderr",
     "output_type": "stream",
     "text": [
      "2018-12-20 13:25:01,668 : INFO : EPOCH 4 - PROGRESS: at 63.30% examples, 396295 words/s, in_qsize 7, out_qsize 0\n"
     ]
    },
    {
     "name": "stderr",
     "output_type": "stream",
     "text": [
      "2018-12-20 13:25:02,677 : INFO : EPOCH 4 - PROGRESS: at 64.74% examples, 386263 words/s, in_qsize 8, out_qsize 0\n"
     ]
    },
    {
     "name": "stderr",
     "output_type": "stream",
     "text": [
      "2018-12-20 13:25:03,698 : INFO : EPOCH 4 - PROGRESS: at 66.23% examples, 377231 words/s, in_qsize 6, out_qsize 1\n"
     ]
    },
    {
     "name": "stderr",
     "output_type": "stream",
     "text": [
      "2018-12-20 13:25:04,720 : INFO : EPOCH 4 - PROGRESS: at 67.74% examples, 368976 words/s, in_qsize 7, out_qsize 0\n"
     ]
    },
    {
     "name": "stderr",
     "output_type": "stream",
     "text": [
      "2018-12-20 13:25:05,766 : INFO : EPOCH 4 - PROGRESS: at 69.12% examples, 360492 words/s, in_qsize 7, out_qsize 1\n"
     ]
    },
    {
     "name": "stderr",
     "output_type": "stream",
     "text": [
      "2018-12-20 13:25:06,809 : INFO : EPOCH 4 - PROGRESS: at 70.74% examples, 353845 words/s, in_qsize 8, out_qsize 1\n"
     ]
    },
    {
     "name": "stderr",
     "output_type": "stream",
     "text": [
      "2018-12-20 13:25:07,836 : INFO : EPOCH 4 - PROGRESS: at 72.23% examples, 347387 words/s, in_qsize 7, out_qsize 0\n"
     ]
    },
    {
     "name": "stderr",
     "output_type": "stream",
     "text": [
      "2018-12-20 13:25:08,863 : INFO : EPOCH 4 - PROGRESS: at 73.75% examples, 341429 words/s, in_qsize 7, out_qsize 0\n"
     ]
    },
    {
     "name": "stderr",
     "output_type": "stream",
     "text": [
      "2018-12-20 13:25:09,893 : INFO : EPOCH 4 - PROGRESS: at 75.42% examples, 336591 words/s, in_qsize 7, out_qsize 0\n"
     ]
    },
    {
     "name": "stderr",
     "output_type": "stream",
     "text": [
      "2018-12-20 13:25:10,956 : INFO : EPOCH 4 - PROGRESS: at 76.93% examples, 330999 words/s, in_qsize 7, out_qsize 0\n"
     ]
    },
    {
     "name": "stderr",
     "output_type": "stream",
     "text": [
      "2018-12-20 13:25:11,966 : INFO : EPOCH 4 - PROGRESS: at 78.54% examples, 326837 words/s, in_qsize 7, out_qsize 0\n"
     ]
    },
    {
     "name": "stderr",
     "output_type": "stream",
     "text": [
      "2018-12-20 13:25:12,987 : INFO : EPOCH 4 - PROGRESS: at 80.01% examples, 322138 words/s, in_qsize 7, out_qsize 0\n"
     ]
    },
    {
     "name": "stderr",
     "output_type": "stream",
     "text": [
      "2018-12-20 13:25:14,003 : INFO : EPOCH 4 - PROGRESS: at 81.50% examples, 318011 words/s, in_qsize 7, out_qsize 0\n"
     ]
    },
    {
     "name": "stderr",
     "output_type": "stream",
     "text": [
      "2018-12-20 13:25:15,046 : INFO : EPOCH 4 - PROGRESS: at 83.07% examples, 314083 words/s, in_qsize 7, out_qsize 0\n"
     ]
    },
    {
     "name": "stderr",
     "output_type": "stream",
     "text": [
      "2018-12-20 13:25:16,072 : INFO : EPOCH 4 - PROGRESS: at 84.46% examples, 309938 words/s, in_qsize 6, out_qsize 3\n"
     ]
    },
    {
     "name": "stderr",
     "output_type": "stream",
     "text": [
      "2018-12-20 13:25:17,092 : INFO : EPOCH 4 - PROGRESS: at 85.96% examples, 306479 words/s, in_qsize 7, out_qsize 0\n"
     ]
    },
    {
     "name": "stderr",
     "output_type": "stream",
     "text": [
      "2018-12-20 13:25:18,146 : INFO : EPOCH 4 - PROGRESS: at 87.36% examples, 302526 words/s, in_qsize 7, out_qsize 0\n"
     ]
    },
    {
     "name": "stderr",
     "output_type": "stream",
     "text": [
      "2018-12-20 13:25:19,196 : INFO : EPOCH 4 - PROGRESS: at 89.01% examples, 299792 words/s, in_qsize 7, out_qsize 0\n"
     ]
    },
    {
     "name": "stderr",
     "output_type": "stream",
     "text": [
      "2018-12-20 13:25:20,260 : INFO : EPOCH 4 - PROGRESS: at 90.67% examples, 297098 words/s, in_qsize 6, out_qsize 1\n"
     ]
    },
    {
     "name": "stderr",
     "output_type": "stream",
     "text": [
      "2018-12-20 13:25:21,272 : INFO : EPOCH 4 - PROGRESS: at 92.52% examples, 295458 words/s, in_qsize 7, out_qsize 0\n"
     ]
    },
    {
     "name": "stderr",
     "output_type": "stream",
     "text": [
      "2018-12-20 13:25:22,292 : INFO : EPOCH 4 - PROGRESS: at 94.22% examples, 293309 words/s, in_qsize 8, out_qsize 1\n"
     ]
    },
    {
     "name": "stderr",
     "output_type": "stream",
     "text": [
      "2018-12-20 13:25:23,304 : INFO : EPOCH 4 - PROGRESS: at 95.91% examples, 291318 words/s, in_qsize 7, out_qsize 0\n"
     ]
    },
    {
     "name": "stderr",
     "output_type": "stream",
     "text": [
      "2018-12-20 13:25:24,323 : INFO : EPOCH 4 - PROGRESS: at 98.09% examples, 291030 words/s, in_qsize 7, out_qsize 0\n"
     ]
    },
    {
     "name": "stderr",
     "output_type": "stream",
     "text": [
      "2018-12-20 13:25:25,070 : INFO : worker thread finished; awaiting finish of 3 more threads\n"
     ]
    },
    {
     "name": "stderr",
     "output_type": "stream",
     "text": [
      "2018-12-20 13:25:25,081 : INFO : worker thread finished; awaiting finish of 2 more threads\n"
     ]
    },
    {
     "name": "stderr",
     "output_type": "stream",
     "text": [
      "2018-12-20 13:25:25,087 : INFO : worker thread finished; awaiting finish of 1 more threads\n"
     ]
    },
    {
     "name": "stderr",
     "output_type": "stream",
     "text": [
      "2018-12-20 13:25:25,104 : INFO : worker thread finished; awaiting finish of 0 more threads\n"
     ]
    },
    {
     "name": "stderr",
     "output_type": "stream",
     "text": [
      "2018-12-20 13:25:25,105 : INFO : EPOCH - 4 : training on 17901873 raw words (12764574 effective words) took 43.8s, 291427 effective words/s\n"
     ]
    },
    {
     "name": "stderr",
     "output_type": "stream",
     "text": [
      "2018-12-20 13:25:26,126 : INFO : EPOCH 5 - PROGRESS: at 1.83% examples, 233383 words/s, in_qsize 7, out_qsize 0\n"
     ]
    },
    {
     "name": "stderr",
     "output_type": "stream",
     "text": [
      "2018-12-20 13:25:27,160 : INFO : EPOCH 5 - PROGRESS: at 3.79% examples, 237337 words/s, in_qsize 7, out_qsize 0\n"
     ]
    },
    {
     "name": "stderr",
     "output_type": "stream",
     "text": [
      "2018-12-20 13:25:28,178 : INFO : EPOCH 5 - PROGRESS: at 6.11% examples, 255883 words/s, in_qsize 7, out_qsize 0\n"
     ]
    },
    {
     "name": "stderr",
     "output_type": "stream",
     "text": [
      "2018-12-20 13:25:29,181 : INFO : EPOCH 5 - PROGRESS: at 8.56% examples, 267915 words/s, in_qsize 6, out_qsize 1\n"
     ]
    },
    {
     "name": "stderr",
     "output_type": "stream",
     "text": [
      "2018-12-20 13:25:30,216 : INFO : EPOCH 5 - PROGRESS: at 11.19% examples, 279126 words/s, in_qsize 7, out_qsize 0\n"
     ]
    },
    {
     "name": "stderr",
     "output_type": "stream",
     "text": [
      "2018-12-20 13:25:31,231 : INFO : EPOCH 5 - PROGRESS: at 13.28% examples, 275959 words/s, in_qsize 7, out_qsize 0\n"
     ]
    },
    {
     "name": "stderr",
     "output_type": "stream",
     "text": [
      "2018-12-20 13:25:32,240 : INFO : EPOCH 5 - PROGRESS: at 15.86% examples, 282876 words/s, in_qsize 8, out_qsize 0\n"
     ]
    },
    {
     "name": "stderr",
     "output_type": "stream",
     "text": [
      "2018-12-20 13:25:33,251 : INFO : EPOCH 5 - PROGRESS: at 18.69% examples, 291388 words/s, in_qsize 7, out_qsize 0\n"
     ]
    },
    {
     "name": "stderr",
     "output_type": "stream",
     "text": [
      "2018-12-20 13:25:34,256 : INFO : EPOCH 5 - PROGRESS: at 22.30% examples, 309234 words/s, in_qsize 7, out_qsize 0\n"
     ]
    },
    {
     "name": "stderr",
     "output_type": "stream",
     "text": [
      "2018-12-20 13:25:35,264 : INFO : EPOCH 5 - PROGRESS: at 25.92% examples, 324124 words/s, in_qsize 7, out_qsize 0\n"
     ]
    },
    {
     "name": "stderr",
     "output_type": "stream",
     "text": [
      "2018-12-20 13:25:36,285 : INFO : EPOCH 5 - PROGRESS: at 29.31% examples, 333333 words/s, in_qsize 7, out_qsize 0\n"
     ]
    },
    {
     "name": "stderr",
     "output_type": "stream",
     "text": [
      "2018-12-20 13:25:37,289 : INFO : EPOCH 5 - PROGRESS: at 32.84% examples, 342063 words/s, in_qsize 7, out_qsize 0\n"
     ]
    },
    {
     "name": "stderr",
     "output_type": "stream",
     "text": [
      "2018-12-20 13:25:38,292 : INFO : EPOCH 5 - PROGRESS: at 36.19% examples, 348420 words/s, in_qsize 7, out_qsize 0\n"
     ]
    },
    {
     "name": "stderr",
     "output_type": "stream",
     "text": [
      "2018-12-20 13:25:39,306 : INFO : EPOCH 5 - PROGRESS: at 39.80% examples, 356160 words/s, in_qsize 7, out_qsize 0\n"
     ]
    },
    {
     "name": "stderr",
     "output_type": "stream",
     "text": [
      "2018-12-20 13:25:40,307 : INFO : EPOCH 5 - PROGRESS: at 43.22% examples, 361733 words/s, in_qsize 7, out_qsize 0\n"
     ]
    },
    {
     "name": "stderr",
     "output_type": "stream",
     "text": [
      "2018-12-20 13:25:41,322 : INFO : EPOCH 5 - PROGRESS: at 46.78% examples, 367165 words/s, in_qsize 7, out_qsize 0\n"
     ]
    },
    {
     "name": "stderr",
     "output_type": "stream",
     "text": [
      "2018-12-20 13:25:42,330 : INFO : EPOCH 5 - PROGRESS: at 50.45% examples, 372969 words/s, in_qsize 7, out_qsize 0\n"
     ]
    },
    {
     "name": "stderr",
     "output_type": "stream",
     "text": [
      "2018-12-20 13:25:43,336 : INFO : EPOCH 5 - PROGRESS: at 54.12% examples, 378137 words/s, in_qsize 7, out_qsize 0\n"
     ]
    },
    {
     "name": "stderr",
     "output_type": "stream",
     "text": [
      "2018-12-20 13:25:44,340 : INFO : EPOCH 5 - PROGRESS: at 57.52% examples, 381321 words/s, in_qsize 7, out_qsize 0\n"
     ]
    },
    {
     "name": "stderr",
     "output_type": "stream",
     "text": [
      "2018-12-20 13:25:45,347 : INFO : EPOCH 5 - PROGRESS: at 60.94% examples, 384140 words/s, in_qsize 7, out_qsize 0\n"
     ]
    },
    {
     "name": "stderr",
     "output_type": "stream",
     "text": [
      "2018-12-20 13:25:46,351 : INFO : EPOCH 5 - PROGRESS: at 64.35% examples, 386448 words/s, in_qsize 7, out_qsize 0\n"
     ]
    },
    {
     "name": "stderr",
     "output_type": "stream",
     "text": [
      "2018-12-20 13:25:47,363 : INFO : EPOCH 5 - PROGRESS: at 68.03% examples, 389988 words/s, in_qsize 7, out_qsize 0\n"
     ]
    },
    {
     "name": "stderr",
     "output_type": "stream",
     "text": [
      "2018-12-20 13:25:48,381 : INFO : EPOCH 5 - PROGRESS: at 71.68% examples, 393108 words/s, in_qsize 7, out_qsize 0\n"
     ]
    },
    {
     "name": "stderr",
     "output_type": "stream",
     "text": [
      "2018-12-20 13:25:49,397 : INFO : EPOCH 5 - PROGRESS: at 75.42% examples, 396290 words/s, in_qsize 7, out_qsize 0\n"
     ]
    },
    {
     "name": "stderr",
     "output_type": "stream",
     "text": [
      "2018-12-20 13:25:50,397 : INFO : EPOCH 5 - PROGRESS: at 78.94% examples, 398345 words/s, in_qsize 7, out_qsize 0\n"
     ]
    },
    {
     "name": "stderr",
     "output_type": "stream",
     "text": [
      "2018-12-20 13:25:51,423 : INFO : EPOCH 5 - PROGRESS: at 82.68% examples, 400936 words/s, in_qsize 7, out_qsize 0\n"
     ]
    },
    {
     "name": "stderr",
     "output_type": "stream",
     "text": [
      "2018-12-20 13:25:52,428 : INFO : EPOCH 5 - PROGRESS: at 86.36% examples, 403387 words/s, in_qsize 7, out_qsize 0\n"
     ]
    },
    {
     "name": "stderr",
     "output_type": "stream",
     "text": [
      "2018-12-20 13:25:53,447 : INFO : EPOCH 5 - PROGRESS: at 90.05% examples, 405685 words/s, in_qsize 7, out_qsize 0\n"
     ]
    },
    {
     "name": "stderr",
     "output_type": "stream",
     "text": [
      "2018-12-20 13:25:54,468 : INFO : EPOCH 5 - PROGRESS: at 93.51% examples, 406606 words/s, in_qsize 7, out_qsize 0\n"
     ]
    },
    {
     "name": "stderr",
     "output_type": "stream",
     "text": [
      "2018-12-20 13:25:55,478 : INFO : EPOCH 5 - PROGRESS: at 96.95% examples, 407389 words/s, in_qsize 7, out_qsize 0\n"
     ]
    },
    {
     "name": "stderr",
     "output_type": "stream",
     "text": [
      "2018-12-20 13:25:56,336 : INFO : worker thread finished; awaiting finish of 3 more threads\n"
     ]
    },
    {
     "name": "stderr",
     "output_type": "stream",
     "text": [
      "2018-12-20 13:25:56,345 : INFO : worker thread finished; awaiting finish of 2 more threads\n"
     ]
    },
    {
     "name": "stderr",
     "output_type": "stream",
     "text": [
      "2018-12-20 13:25:56,355 : INFO : worker thread finished; awaiting finish of 1 more threads\n"
     ]
    },
    {
     "name": "stderr",
     "output_type": "stream",
     "text": [
      "2018-12-20 13:25:56,358 : INFO : worker thread finished; awaiting finish of 0 more threads\n"
     ]
    },
    {
     "name": "stderr",
     "output_type": "stream",
     "text": [
      "2018-12-20 13:25:56,359 : INFO : EPOCH - 5 : training on 17901873 raw words (12762925 effective words) took 31.2s, 408544 effective words/s\n"
     ]
    },
    {
     "name": "stderr",
     "output_type": "stream",
     "text": [
      "2018-12-20 13:25:56,360 : INFO : training on a 89509365 raw words (63820695 effective words) took 174.0s, 366788 effective words/s\n"
     ]
    },
    {
     "name": "stderr",
     "output_type": "stream",
     "text": [
      "2018-12-20 13:25:56,361 : INFO : precomputing L2-norms of word weight vectors\n"
     ]
    },
    {
     "name": "stderr",
     "output_type": "stream",
     "text": [
      "2018-12-20 13:25:57,123 : INFO : saving Word2Vec object under data/300features_50minwords_10context, separately None\n"
     ]
    },
    {
     "name": "stderr",
     "output_type": "stream",
     "text": [
      "2018-12-20 13:25:57,125 : INFO : not storing attribute vectors_norm\n"
     ]
    },
    {
     "name": "stderr",
     "output_type": "stream",
     "text": [
      "2018-12-20 13:25:57,126 : INFO : not storing attribute cum_table\n"
     ]
    },
    {
     "name": "stderr",
     "output_type": "stream",
     "text": [
      "2018-12-20 13:25:57,462 : INFO : saved data/300features_50minwords_10context\n"
     ]
    }
   ],
   "source": [
    "try:\n",
    "    raise(OSError)\n",
    "    model = pickle.load(open(\"./models/word2vec.pickle\", \"rb\"))\n",
    "except (OSError, IOError) as e:\n",
    "    # Import the built-in logging module and configure it so that Word2Vec \n",
    "    # creates nice output messages\n",
    "    import logging\n",
    "    logging.basicConfig(format='%(asctime)s : %(levelname)s : %(message)s', level=logging.INFO)\n",
    "    \n",
    "    # Set values for various parameters\n",
    "    num_features = 300    # Word vector dimensionality                      \n",
    "    min_word_count = 50   # Minimum word count                        \n",
    "    num_workers = 4       # Number of threads to run in parallel\n",
    "    context = 10          # Context window size                                                                                    \n",
    "    downsampling = 1e-3   # Downsample setting for frequent words\n",
    "    \n",
    "    # Initialize and train the model (this will take some time)\n",
    "    from gensim.models import word2vec\n",
    "    print(\"Training model...\")\n",
    "    model = word2vec.Word2Vec(sentences, workers=num_workers, \\\n",
    "                size=num_features, min_count=min_word_count, \\\n",
    "                window=context, sample=downsampling)\n",
    "    \n",
    "    # If you don't plan to train the model any further, calling \n",
    "    # init_sims will make the model much more memory-efficient.\n",
    "    model.init_sims(replace=True)\n",
    "    \n",
    "    pickle.dump(model, open(\"./models/word2vec.pickle\", \"wb\"))\n",
    "    \n",
    "# It can be helpful to create a meaningful model name and \n",
    "# save the model for later use. You can load it later using Word2Vec.load()\n",
    "model_name = f\"data/{num_features}features_{min_word_count}minwords_{context}context\"\n",
    "model.save(model_name)"
   ]
  },
  {
   "cell_type": "code",
   "execution_count": 30,
   "metadata": {},
   "outputs": [
    {
     "name": "stderr",
     "output_type": "stream",
     "text": [
      "2018-12-20 13:29:55,193 : INFO : loading Word2Vec object from data/300features_50minwords_10context\n"
     ]
    },
    {
     "name": "stderr",
     "output_type": "stream",
     "text": [
      "2018-12-20 13:29:55,473 : INFO : loading wv recursively from data/300features_50minwords_10context.wv.* with mmap=None\n"
     ]
    },
    {
     "name": "stderr",
     "output_type": "stream",
     "text": [
      "2018-12-20 13:29:55,474 : INFO : setting ignored attribute vectors_norm to None\n"
     ]
    },
    {
     "name": "stderr",
     "output_type": "stream",
     "text": [
      "2018-12-20 13:29:55,475 : INFO : loading vocabulary recursively from data/300features_50minwords_10context.vocabulary.* with mmap=None\n"
     ]
    },
    {
     "name": "stderr",
     "output_type": "stream",
     "text": [
      "2018-12-20 13:29:55,476 : INFO : loading trainables recursively from data/300features_50minwords_10context.trainables.* with mmap=None\n"
     ]
    },
    {
     "name": "stderr",
     "output_type": "stream",
     "text": [
      "2018-12-20 13:29:55,477 : INFO : setting ignored attribute cum_table to None\n"
     ]
    },
    {
     "name": "stderr",
     "output_type": "stream",
     "text": [
      "2018-12-20 13:29:55,478 : INFO : loaded data/300features_50minwords_10context\n"
     ]
    }
   ],
   "source": [
    "from gensim.models import Word2Vec\n",
    "model = Word2Vec.load(\"data/300features_50minwords_10context\")"
   ]
  },
  {
   "cell_type": "code",
   "execution_count": 31,
   "metadata": {},
   "outputs": [],
   "source": [
    "def makeFeatureVec(words, model, num_features):\n",
    "    # Function to average all of the word vectors in a given\n",
    "    # paragraph\n",
    "    #\n",
    "    # Pre-initialize an empty numpy array (for speed)\n",
    "    featureVec = np.zeros((num_features,), dtype=\"float32\")\n",
    "    #\n",
    "    nwords = 0.\n",
    "    # \n",
    "    # Index2word is a list that contains the names of the words in \n",
    "    # the model's vocabulary. Convert it to a set, for speed \n",
    "    #index2word_set = set(model.index2word)\n",
    "    index2word_set = list(model.wv.vocab.keys())\n",
    "\n",
    "    #\n",
    "    # Loop over each word in the review and, if it is in the model's\n",
    "    # vocaublary, add its feature vector to the total\n",
    "    for word in words:\n",
    "        if word in index2word_set: \n",
    "            nwords = nwords + 1.\n",
    "            featureVec = np.add(featureVec, model.wv[word])\n",
    "    # \n",
    "    # Divide the result by the number of words to get the average\n",
    "    featureVec = np.divide(featureVec,nwords)\n",
    "    return featureVec\n",
    "\n",
    "\n",
    "def getAvgFeatureVecs(reviews, model, num_features):\n",
    "    # Given a set of reviews (each one a list of words), calculate \n",
    "    # the average feature vector for each one and return a 2D numpy array \n",
    "    # \n",
    "    # Initialize a counter\n",
    "    counter = 0\n",
    "    # \n",
    "    # Preallocate a 2D numpy array, for speed\n",
    "    reviewFeatureVecs = np.zeros((len(reviews), num_features), dtype=\"float32\")\n",
    "    # \n",
    "    # Loop through the reviews\n",
    "    for review in reviews:\n",
    "       #\n",
    "       # Print a status message every 1000th review\n",
    "       if counter%1000. == 0.:\n",
    "           print(\"Review {} of {}\".format(counter, len(reviews)))\n",
    "       # \n",
    "       # Call the function (defined above) that makes average feature vectors\n",
    "       reviewFeatureVecs[counter] = makeFeatureVec(review, model, num_features)\n",
    "       #\n",
    "       # Increment the counter\n",
    "       counter = counter + 1\n",
    "    return reviewFeatureVecs"
   ]
  },
  {
   "cell_type": "code",
   "execution_count": 32,
   "metadata": {
    "collapsed": true
   },
   "outputs": [
    {
     "name": "stdout",
     "output_type": "stream",
     "text": [
      "Review 0 of 25000\n"
     ]
    },
    {
     "name": "stdout",
     "output_type": "stream",
     "text": [
      "Review 1000 of 25000\n"
     ]
    },
    {
     "name": "stdout",
     "output_type": "stream",
     "text": [
      "Review 2000 of 25000\n"
     ]
    },
    {
     "name": "stdout",
     "output_type": "stream",
     "text": [
      "Review 3000 of 25000\n"
     ]
    },
    {
     "name": "stdout",
     "output_type": "stream",
     "text": [
      "Review 4000 of 25000\n"
     ]
    },
    {
     "name": "stdout",
     "output_type": "stream",
     "text": [
      "Review 5000 of 25000\n"
     ]
    },
    {
     "name": "stdout",
     "output_type": "stream",
     "text": [
      "Review 6000 of 25000\n"
     ]
    },
    {
     "name": "stdout",
     "output_type": "stream",
     "text": [
      "Review 7000 of 25000\n"
     ]
    },
    {
     "name": "stdout",
     "output_type": "stream",
     "text": [
      "Review 8000 of 25000\n"
     ]
    },
    {
     "name": "stdout",
     "output_type": "stream",
     "text": [
      "Review 9000 of 25000\n"
     ]
    },
    {
     "name": "stdout",
     "output_type": "stream",
     "text": [
      "Review 10000 of 25000\n"
     ]
    },
    {
     "name": "stdout",
     "output_type": "stream",
     "text": [
      "Review 11000 of 25000\n"
     ]
    },
    {
     "name": "stdout",
     "output_type": "stream",
     "text": [
      "Review 12000 of 25000\n"
     ]
    },
    {
     "name": "stdout",
     "output_type": "stream",
     "text": [
      "Review 13000 of 25000\n"
     ]
    },
    {
     "name": "stdout",
     "output_type": "stream",
     "text": [
      "Review 14000 of 25000\n"
     ]
    },
    {
     "name": "stdout",
     "output_type": "stream",
     "text": [
      "Review 15000 of 25000\n"
     ]
    },
    {
     "name": "stdout",
     "output_type": "stream",
     "text": [
      "Review 16000 of 25000\n"
     ]
    },
    {
     "name": "stdout",
     "output_type": "stream",
     "text": [
      "Review 17000 of 25000\n"
     ]
    },
    {
     "name": "stdout",
     "output_type": "stream",
     "text": [
      "Review 18000 of 25000\n"
     ]
    },
    {
     "name": "stdout",
     "output_type": "stream",
     "text": [
      "Review 19000 of 25000\n"
     ]
    },
    {
     "name": "stdout",
     "output_type": "stream",
     "text": [
      "Review 20000 of 25000\n"
     ]
    },
    {
     "name": "stdout",
     "output_type": "stream",
     "text": [
      "Review 21000 of 25000\n"
     ]
    },
    {
     "name": "stdout",
     "output_type": "stream",
     "text": [
      "Review 22000 of 25000\n"
     ]
    },
    {
     "name": "stdout",
     "output_type": "stream",
     "text": [
      "Review 23000 of 25000\n"
     ]
    },
    {
     "name": "stdout",
     "output_type": "stream",
     "text": [
      "Review 24000 of 25000\n"
     ]
    },
    {
     "name": "stdout",
     "output_type": "stream",
     "text": [
      "Creating average feature vecs for test reviews\n"
     ]
    },
    {
     "name": "stdout",
     "output_type": "stream",
     "text": [
      "Review 0 of 25000\n"
     ]
    },
    {
     "name": "stdout",
     "output_type": "stream",
     "text": [
      "Review 1000 of 25000\n"
     ]
    },
    {
     "name": "stdout",
     "output_type": "stream",
     "text": [
      "Review 2000 of 25000\n"
     ]
    },
    {
     "name": "stdout",
     "output_type": "stream",
     "text": [
      "Review 3000 of 25000\n"
     ]
    },
    {
     "name": "stdout",
     "output_type": "stream",
     "text": [
      "Review 4000 of 25000\n"
     ]
    },
    {
     "name": "stdout",
     "output_type": "stream",
     "text": [
      "Review 5000 of 25000\n"
     ]
    },
    {
     "name": "stdout",
     "output_type": "stream",
     "text": [
      "Review 6000 of 25000\n"
     ]
    },
    {
     "name": "stdout",
     "output_type": "stream",
     "text": [
      "Review 7000 of 25000\n"
     ]
    },
    {
     "name": "stdout",
     "output_type": "stream",
     "text": [
      "Review 8000 of 25000\n"
     ]
    },
    {
     "name": "stdout",
     "output_type": "stream",
     "text": [
      "Review 9000 of 25000\n"
     ]
    },
    {
     "name": "stdout",
     "output_type": "stream",
     "text": [
      "Review 10000 of 25000\n"
     ]
    },
    {
     "name": "stdout",
     "output_type": "stream",
     "text": [
      "Review 11000 of 25000\n"
     ]
    },
    {
     "name": "stdout",
     "output_type": "stream",
     "text": [
      "Review 12000 of 25000\n"
     ]
    },
    {
     "name": "stdout",
     "output_type": "stream",
     "text": [
      "Review 13000 of 25000\n"
     ]
    },
    {
     "name": "stdout",
     "output_type": "stream",
     "text": [
      "Review 14000 of 25000\n"
     ]
    },
    {
     "name": "stdout",
     "output_type": "stream",
     "text": [
      "Review 15000 of 25000\n"
     ]
    },
    {
     "name": "stdout",
     "output_type": "stream",
     "text": [
      "Review 16000 of 25000\n"
     ]
    },
    {
     "name": "stdout",
     "output_type": "stream",
     "text": [
      "Review 17000 of 25000\n"
     ]
    },
    {
     "name": "stdout",
     "output_type": "stream",
     "text": [
      "Review 18000 of 25000\n"
     ]
    },
    {
     "name": "stdout",
     "output_type": "stream",
     "text": [
      "Review 19000 of 25000\n"
     ]
    },
    {
     "name": "stdout",
     "output_type": "stream",
     "text": [
      "Review 20000 of 25000\n"
     ]
    },
    {
     "name": "stdout",
     "output_type": "stream",
     "text": [
      "Review 21000 of 25000\n"
     ]
    },
    {
     "name": "stdout",
     "output_type": "stream",
     "text": [
      "Review 22000 of 25000\n"
     ]
    },
    {
     "name": "stdout",
     "output_type": "stream",
     "text": [
      "Review 23000 of 25000\n"
     ]
    },
    {
     "name": "stdout",
     "output_type": "stream",
     "text": [
      "Review 24000 of 25000\n"
     ]
    }
   ],
   "source": [
    "# ****************************************************************\n",
    "# Calculate average feature vectors for training and testing sets,\n",
    "# using the functions we defined above. Notice that we now use stop word\n",
    "# removal.\n",
    "try:\n",
    "    raise(OSError)\n",
    "    clean_train_reviews = pickle.load(open(\"./models/word2vec_train.pickle\", \"rb\"))\n",
    "except (OSError, IOError) as e:\n",
    "    clean_train_reviews = []\n",
    "    for review in train[\"review\"]:\n",
    "        clean_train_reviews.append(review_to_wordlist(review, \\\n",
    "            remove_stopwords=True ))\n",
    "    pickle.dump(clean_train_reviews, open(\"./models/word2vec_train.pickle\", \"wb\"))\n",
    "\n",
    "try:\n",
    "    raise(OSError)\n",
    "    trainDataVecs = pickle.load(open(\"./models/word2vec_train_vecs.pickle\", \"rb\"))\n",
    "except (OSError, IOError) as e:\n",
    "    trainDataVecs = getAvgFeatureVecs(clean_train_reviews, model, num_features)\n",
    "    pickle.dump(trainDataVecs, open(\"./models/word2vec_train_vecs.pickle\", \"wb\"))\n",
    "\n",
    "try:\n",
    "    raise(OSError)\n",
    "    clean_test_reviews = pickle.load(open(\"./models/word2vec_test.pickle\", \"rb\"))\n",
    "except (OSError, IOError) as e:\n",
    "    print(\"Creating average feature vecs for test reviews\")\n",
    "    clean_test_reviews = []\n",
    "    for review in test[\"review\"]:\n",
    "        clean_test_reviews.append(review_to_wordlist(review, \\\n",
    "            remove_stopwords=True))\n",
    "    pickle.dump(clean_test_reviews, open(\"./models/word2vec_test.pickle\", \"wb\"))\n",
    "\n",
    "\n",
    "try:\n",
    "    raise(OSError)\n",
    "    testDataVecs = pickle.load(open(\"./models/word2vec_test_vecs.pickle\", \"rb\"))\n",
    "except (OSError, IOError) as e:\n",
    "    testDataVecs = getAvgFeatureVecs(clean_test_reviews, model, num_features)\n",
    "    pickle.dump(testDataVecs, open(\"./models/word2vec_test_vecs.pickle\", \"wb\"))"
   ]
  },
  {
   "cell_type": "code",
   "execution_count": 33,
   "metadata": {},
   "outputs": [
    {
     "name": "stdout",
     "output_type": "stream",
     "text": [
      "Fitting a random forest to labeled training data...\n"
     ]
    }
   ],
   "source": [
    "# Fit a random forest to the training data, using 100 trees\n",
    "from sklearn.ensemble import RandomForestClassifier\n",
    "\n",
    "try:\n",
    "    raise(OSError)\n",
    "    forest = pickle.load(open(\"./models/word2vec_forest.pickle\", \"rb\"))\n",
    "except (OSError, IOError) as e:\n",
    "    forest = RandomForestClassifier(n_estimators=100)\n",
    "    \n",
    "    print(\"Fitting a random forest to labeled training data...\")\n",
    "    forest = forest.fit(trainDataVecs, train[\"sentiment\"])\n",
    "    pickle.dump(forest, open(\"./models/word2vec_forest.pickle\", \"wb\"))\n",
    "\n",
    "# Test & extract results \n",
    "result = forest.predict(testDataVecs)\n",
    "\n",
    "# Write the test results \n",
    "#output = pd.DataFrame(data={\"id\":test[\"id\"], \"sentiment\":result} )\n",
    "#output.to_csv( \"Word2Vec_AverageVectors.csv\", index=False, quoting=3 )"
   ]
  },
  {
   "cell_type": "code",
   "execution_count": 25,
   "metadata": {},
   "outputs": [
    {
     "name": "stdout",
     "output_type": "stream",
     "text": [
      "0.8269200063867156\n"
     ]
    }
   ],
   "source": [
    "from sklearn import metrics\n",
    "score_word2vec_avg = metrics.f1_score(np.array(test[\"sentiment\"]), result)\n",
    "print(score_word2vec_avg)"
   ]
  },
  {
   "cell_type": "code",
   "execution_count": 10,
   "metadata": {},
   "outputs": [
    {
     "name": "stdout",
     "output_type": "stream",
     "text": [
      "Time taken for K Means clustering: 463.90451860427856 seconds.\n"
     ]
    }
   ],
   "source": [
    "from sklearn.cluster import KMeans\n",
    "import time\n",
    "\n",
    "try:\n",
    "    idx = pickle.load(open(\"./models/word2vec_idx.pickle\", \"rb\"))\n",
    "except (OSError, IOError) as e:\n",
    "    start = time.time() # Start time\n",
    "    \n",
    "    # Set \"k\" (num_clusters) to be 1/5th of the vocabulary size, or an\n",
    "    # average of 5 words per cluster\n",
    "    word_vectors = model.wv.vectors\n",
    "    num_clusters = round(word_vectors.shape[0] / 5)\n",
    "    \n",
    "    # Initalize a k-means object and use it to extract centroids\n",
    "    kmeans_clustering = KMeans(n_clusters=num_clusters)\n",
    "    \n",
    "    idx = kmeans_clustering.fit_predict(word_vectors)\n",
    "    \n",
    "    # Get the end time and print how long the process took\n",
    "    end = time.time()\n",
    "    elapsed = end - start\n",
    "    print(\"Time taken for K Means clustering: {} seconds.\".format(elapsed))\n",
    "    pickle.dump(idx, open(\"./models/word2vec_idx.pickle\", \"wb\"))"
   ]
  },
  {
   "cell_type": "code",
   "execution_count": 12,
   "metadata": {},
   "outputs": [],
   "source": [
    "# Create a Word / Index dictionary, mapping each vocabulary word to\n",
    "# a cluster number                                                                                            \n",
    "word_centroid_map = dict(zip(model.wv.vocab.keys(), idx))\n"
   ]
  },
  {
   "cell_type": "code",
   "execution_count": 12,
   "metadata": {},
   "outputs": [],
   "source": [
    "def create_bag_of_centroids( wordlist, word_centroid_map ):\n",
    "    #\n",
    "    # The number of clusters is equal to the highest cluster index\n",
    "    # in the word / centroid map\n",
    "    num_centroids = max( word_centroid_map.values() ) + 1\n",
    "    #\n",
    "    # Pre-allocate the bag of centroids vector (for speed)\n",
    "    bag_of_centroids = np.zeros( num_centroids, dtype=\"float32\" )\n",
    "    #\n",
    "    # Loop over the words in the review. If the word is in the vocabulary,\n",
    "    # find which cluster it belongs to, and increment that cluster count \n",
    "    # by one\n",
    "    for word in wordlist:\n",
    "        if word in word_centroid_map:\n",
    "            index = word_centroid_map[word]\n",
    "            bag_of_centroids[index] += 1\n",
    "    #\n",
    "    # Return the \"bag of centroids\"\n",
    "    return bag_of_centroids"
   ]
  },
  {
   "cell_type": "code",
   "execution_count": 13,
   "metadata": {},
   "outputs": [],
   "source": [
    "try:\n",
    "    train_centroids = pickle.load(open(\"./models/word2vec_train_centroids.pickle\", \"rb\"))\n",
    "except (OSError, IOError) as e:\n",
    "    # Pre-allocate an array for the training set bags of centroids (for speed)\n",
    "    train_centroids = np.zeros( (train[\"review\"].size, num_clusters), \\\n",
    "        dtype=\"float32\" )\n",
    "    \n",
    "    # Transform the training set reviews into bags of centroids\n",
    "    counter = 0\n",
    "    for review in clean_train_reviews:\n",
    "        train_centroids[counter] = create_bag_of_centroids( review, \\\n",
    "            word_centroid_map )\n",
    "        counter += 1\n",
    "    pickle.dump(train_centroids, open(\"./models/word2vec_train_centroids.pickle\", \"wb\"))\n",
    "\n",
    "try:\n",
    "    test_centroids = pickle.load(open(\"./models/word2vec_test_centroids.pickle\", \"rb\"))\n",
    "except (OSError, IOError) as e:\n",
    "    # Repeat for test reviews \n",
    "    test_centroids = np.zeros(( test[\"review\"].size, num_clusters), \\\n",
    "        dtype=\"float32\" )\n",
    "    \n",
    "    counter = 0\n",
    "    for review in clean_test_reviews:\n",
    "        test_centroids[counter] = create_bag_of_centroids( review, \\\n",
    "            word_centroid_map )\n",
    "        counter += 1\n",
    "    pickle.dump(train_centroids, open(\"./models/word2vec_test_centroids.pickle\", \"wb\"))"
   ]
  },
  {
   "cell_type": "code",
   "execution_count": 14,
   "metadata": {},
   "outputs": [
    {
     "name": "stdout",
     "output_type": "stream",
     "text": [
      "Fitting a random forest to labeled training data...\n"
     ]
    },
    {
     "name": "stdout",
     "output_type": "stream",
     "text": [
      "0.8103164734667683\n"
     ]
    }
   ],
   "source": [
    "try:\n",
    "    forest = pickle.load(open(\"./models/word2vec_forest_centroids.pickle\", \"rb\"))\n",
    "except (OSError, IOError) as e:\n",
    "    # Fit a random forest and extract predictions \n",
    "    forest = RandomForestClassifier(n_estimators = 100)\n",
    "    \n",
    "    # Fitting the forest may take a few minutes\n",
    "    print(\"Fitting a random forest to labeled training data...\")\n",
    "    forest = forest.fit(train_centroids,train[\"sentiment\"])\n",
    "    pickle.dump(forest, open(\"./models/word2vec_forest_centroids.pickle\", \"wb\"))\n",
    "    \n",
    "result = forest.predict(test_centroids)\n",
    "\n",
    "# Write the test results \n",
    "#output = pd.DataFrame(data={\"id\":test[\"id\"], \"sentiment\":result})\n",
    "#output.to_csv( \"BagOfCentroids.csv\", index=False, quoting=3 )\n",
    "\n",
    "score_word2vec_centroids = metrics.f1_score(np.array(test[\"sentiment\"]), result)\n",
    "print(score_word2vec_centroids)"
   ]
  },
  {
   "cell_type": "code",
   "execution_count": null,
   "metadata": {},
   "outputs": [],
   "source": []
  }
 ],
 "metadata": {
  "kernelspec": {
   "display_name": "Python 2",
   "language": "python",
   "name": "python2"
  },
  "language_info": {
   "codemirror_mode": {
    "name": "ipython",
    "version": 2
   },
   "file_extension": ".py",
   "mimetype": "text/x-python",
   "name": "python",
   "nbconvert_exporter": "python",
   "pygments_lexer": "ipython2",
   "version": "2.7.6"
  }
 },
 "nbformat": 4,
 "nbformat_minor": 0
}
